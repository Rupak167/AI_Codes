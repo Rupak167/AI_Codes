{
 "cells": [
  {
   "cell_type": "code",
   "execution_count": 1,
   "metadata": {},
   "outputs": [
    {
     "name": "stdout",
     "output_type": "stream",
     "text": [
      "[0, 1, 6, 3, 4]\n"
     ]
    }
   ],
   "source": [
    "import queue\n",
    "\n",
    "class Node:\n",
    "  def __init__(self, val):\n",
    "    self.val = val\n",
    "    self.neighbors = None\n",
    "    self.visited_right = False  # whether the node was reached by the BFS that started from source\n",
    "    self.visited_left = False  # whether the node was reached by the BFS that started from destination\n",
    "    self.parent_right = None  # used for retrieving the final path from start to the meeting point\n",
    "    self.parent_left = None  # used for retrieving the final path from the meeting point to destination\n",
    "\n",
    "\n",
    "def bidirectional_search(s, t):\n",
    "\n",
    "  def extract_path(node):\n",
    "    \"\"\"return the path when both BFS's have met\"\"\"\n",
    "    node_copy = node\n",
    "    path = []\n",
    "\n",
    "    while node:\n",
    "      path.append(node.val)\n",
    "      node = node.parent_right\n",
    "\n",
    "    path.reverse()\n",
    "    del path[-1]  # because the meeting node appears twice\n",
    "\n",
    "    while node_copy:\n",
    "      path.append(node_copy.val)\n",
    "      node_copy = node_copy.parent_left\n",
    "    return path\n",
    "\n",
    "\n",
    "  q = queue.Queue()\n",
    "  q.put(s)\n",
    "  q.put(t)\n",
    "  s.visited_right = True\n",
    "  t.visited_left = True\n",
    "\n",
    "  while not q.empty():\n",
    "    n = q.get()\n",
    "\n",
    "    if n.visited_left and n.visited_right:  # if the node visited by both BFS's\n",
    "      return extract_path(n)\n",
    "\n",
    "    for node in n.neighbors:\n",
    "      if n.visited_left == True and not node.visited_left:\n",
    "        node.parent_left = n\n",
    "        node.visited_left = True\n",
    "        q.put(node)\n",
    "      if n.visited_right == True and not node.visited_right: \n",
    "        node.parent_right = n\n",
    "        node.visited_right = True\n",
    "        q.put(node)\n",
    "\n",
    "  return False\n",
    "\n",
    "n0 = Node(0)\n",
    "n1 = Node(1)\n",
    "n2 = Node(2)\n",
    "n3 = Node(3)\n",
    "n4 = Node(4)\n",
    "n5 = Node(5)\n",
    "n6 = Node(6)\n",
    "n7 = Node(7)\n",
    "n0.neighbors = [n1, n5]\n",
    "n1.neighbors = [n0, n2, n6]\n",
    "n2.neighbors = [n1]\n",
    "n3.neighbors = [n4, n6]\n",
    "n4.neighbors = [n3]\n",
    "n5.neighbors = [n0, n6]\n",
    "n6.neighbors = [n1, n3, n5, n7]\n",
    "n7.neighbors = [n6]\n",
    "print(bidirectional_search(n0, n4))"
   ]
  },
  {
   "cell_type": "code",
   "execution_count": null,
   "metadata": {},
   "outputs": [],
   "source": []
  }
 ],
 "metadata": {
  "kernelspec": {
   "display_name": "Python 3.9.4 64-bit",
   "language": "python",
   "name": "python3"
  },
  "language_info": {
   "codemirror_mode": {
    "name": "ipython",
    "version": 3
   },
   "file_extension": ".py",
   "mimetype": "text/x-python",
   "name": "python",
   "nbconvert_exporter": "python",
   "pygments_lexer": "ipython3",
   "version": "3.9.4"
  },
  "orig_nbformat": 4,
  "vscode": {
   "interpreter": {
    "hash": "29a2b31ce1ae273c8565c327a1305d42d22bdfa31c16a942527177a59e7a05df"
   }
  }
 },
 "nbformat": 4,
 "nbformat_minor": 2
}
