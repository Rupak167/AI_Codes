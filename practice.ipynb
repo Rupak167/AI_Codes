{
 "cells": [
  {
   "cell_type": "code",
   "execution_count": 5,
   "metadata": {},
   "outputs": [],
   "source": [
    "graph = {\n",
    "    '5' : ['3','7'],\n",
    "    '3' : ['2', '4'],\n",
    "    '7' : ['8'],\n",
    "    '2' : [],\n",
    "    '4' : ['8', '6'],\n",
    "    '8' : ['6'],\n",
    "    '6' : []\n",
    "}\n"
   ]
  },
  {
   "cell_type": "code",
   "execution_count": 2,
   "metadata": {},
   "outputs": [],
   "source": [
    "graph_cost = {\n",
    "    '53' : '6',\n",
    "    '57' : '5',\n",
    "    '32' : '3',\n",
    "    '34' : '1',\n",
    "    '78' : '0',\n",
    "    '48' : '7',\n",
    "    '46' : '2',\n",
    "    '86' : '4'\n",
    "}"
   ]
  },
  {
   "cell_type": "code",
   "execution_count": 17,
   "metadata": {},
   "outputs": [],
   "source": [
    "graph_u = {\n",
    "    '5' : ['3','7'],\n",
    "    '3' : ['2', '4', '5'],\n",
    "    '7' : ['8', '5'],\n",
    "    '2' : ['3'],\n",
    "    '4' : ['8', '6', '3'],\n",
    "    '8' : ['4', '7', '6'],\n",
    "    '6' : ['4', '8'],\n",
    "    '1' : ['9', '10'],\n",
    "    '9' : ['1']\n",
    "}"
   ]
  },
  {
   "cell_type": "code",
   "execution_count": 18,
   "metadata": {},
   "outputs": [
    {
     "name": "stdout",
     "output_type": "stream",
     "text": [
      "Traversed node using BFS:\n",
      "5 3 7 2 4 8 6 Goal found! \n"
     ]
    }
   ],
   "source": [
    "#BFS\n",
    "def bfs(visited,queue,graph,start_node,goal):\n",
    "    visited.append(start_node)\n",
    "    print(start_node, end=\" \")\n",
    "    if start_node == goal:\n",
    "        return True\n",
    "    queue.append(start_node)\n",
    "    while(queue):\n",
    "        m= queue.pop(0)\n",
    "        for neighbour in graph[m]:\n",
    "            if neighbour not in visited:\n",
    "                visited.append(neighbour)\n",
    "                print(neighbour, end=\" \")\n",
    "                if neighbour == goal:\n",
    "                    return True\n",
    "                queue.append(neighbour)\n",
    "    return False\n",
    "\n",
    "\n",
    "visited = []\n",
    "queue = []\n",
    "print(\"Traversed node using BFS:\")\n",
    "print(\"Goal found! \") if bfs(visited,queue,graph,'5','6') else print(\"Goal not found !!\")"
   ]
  },
  {
   "cell_type": "code",
   "execution_count": 19,
   "metadata": {},
   "outputs": [
    {
     "name": "stdout",
     "output_type": "stream",
     "text": [
      "Traversed node using DFS :\n",
      "5 3 2 4 8 6 Goal found\n"
     ]
    }
   ],
   "source": [
    "#DFS\n",
    "def dfs(graph, Starting_node, goal) :\n",
    "    print(Starting_node, end = ' ')\n",
    "    if Starting_node == goal:\n",
    "        return True\n",
    "    if len(graph[Starting_node]) == 0 :\n",
    "        return False\n",
    "    for n in graph[Starting_node] :\n",
    "        if dfs(graph, n, goal) :\n",
    "            return True\n",
    "\n",
    "# Driver Code      \n",
    "print(\"Traversed node using DFS :\")\n",
    "print(\"Goal found\") if dfs(graph, '5', '6') else print(\"Goal not found\")"
   ]
  },
  {
   "cell_type": "code",
   "execution_count": 20,
   "metadata": {},
   "outputs": [
    {
     "name": "stdout",
     "output_type": "stream",
     "text": [
      "Traversed Node with IDS: \n",
      "5 \n",
      "\n",
      "5 3 7 \n",
      "\n",
      "5 3 2 4 7 8 \n",
      "\n",
      "5 3 2 4 8 6 Goal found ! \n"
     ]
    }
   ],
   "source": [
    "#IDS\n",
    "def depth_limit_search(graph,start_node,goal,limit):\n",
    "    print(start_node, end = ' ')\n",
    "    limit -= 1\n",
    "    if start_node == goal:\n",
    "        return True\n",
    "    if len(graph[start_node]) == 0 or limit<0:\n",
    "        return False\n",
    "    for n in graph[start_node] :\n",
    "        if depth_limit_search(graph, n, goal,limit) :\n",
    "            return True\n",
    "def ids(graph,start_node,goal,depth):\n",
    "    limit =0\n",
    "    while limit<=depth:\n",
    "        if depth_limit_search(graph,start_node,goal,limit):\n",
    "            return True\n",
    "        else:\n",
    "            limit+=1\n",
    "        print(\"\\n\")\n",
    "        \n",
    "    return False\n",
    "\n",
    "\n",
    "print(\"Traversed Node with IDS: \")\n",
    "print(\"Goal found ! \") if ids(graph,'5','6',3) else print(\"Not found! \")"
   ]
  },
  {
   "cell_type": "code",
   "execution_count": 21,
   "metadata": {},
   "outputs": [
    {
     "name": "stdout",
     "output_type": "stream",
     "text": [
      "Traversed node using UCS \n",
      "5 7 8 Goal found\n",
      "{'3': '6', '7': '5', '8': '5'}\n"
     ]
    }
   ],
   "source": [
    "# UCS\n",
    "\n",
    "def ucs(visited, queue, cost_map, graph, starting_node, goal):\n",
    "  visited.append(starting_node)\n",
    "  queue.append(starting_node)\n",
    "\n",
    "  while queue:\n",
    "    m = queue.pop(0)\n",
    "    print (m, end = \" \")\n",
    "    if m == goal :\n",
    "      return True\n",
    "\n",
    "    for neighbour in graph[m]:\n",
    "      if neighbour not in visited:\n",
    "        cost_map[neighbour] = str(int(cost_map[m]) + int(graph_cost[m+neighbour])) if m in cost_map.keys() else graph_cost[m+neighbour]\n",
    "        visited.append(neighbour)\n",
    "        queue.append(neighbour)\n",
    "        queue.sort(key=lambda e: int(cost_map[e]) if e in cost_map.keys() else 0)\n",
    "  return False\n",
    "\n",
    "# Driver code\n",
    "visited = []\n",
    "queue = []\n",
    "cost_map = {}\n",
    "print(\"Traversed node using UCS \")\n",
    "print(\"Goal found\") if ucs(visited, queue, cost_map, graph, '5', '8') else print(\"Goal not found\")\n",
    "print(cost_map)"
   ]
  },
  {
   "cell_type": "code",
   "execution_count": 25,
   "metadata": {},
   "outputs": [
    {
     "name": "stdout",
     "output_type": "stream",
     "text": [
      "Traversed node using Bidirectional Search :\n",
      "From start: 5, From end: 7\n",
      "Goal found\n"
     ]
    }
   ],
   "source": [
    "# Bi-directional Search\n",
    "\n",
    "def bids(visited, queue_1, queue_2, graph, starting_node, goal):\n",
    "    visited.append(starting_node)\n",
    "    visited.append(goal)\n",
    "    if starting_node == goal :\n",
    "        return True\n",
    "    queue_1.append(starting_node)\n",
    "    queue_2.append(goal)\n",
    "\n",
    "    while queue_1 and queue_2 :\n",
    "        m = queue_1.pop(0)\n",
    "        n = queue_2.pop(0)\n",
    "\n",
    "        print('From start: {}, From end: {}'.format(m, n), end=\"\\n\")\n",
    "\n",
    "        if m in graph.keys() and n in graph.keys() :\n",
    "            if m in graph[n] and n in graph[m] :\n",
    "                return True\n",
    "            else :\n",
    "                return False\n",
    "        \n",
    "        for neighbour_1 in graph[m]:\n",
    "            if neighbour_1 not in visited:\n",
    "                visited.append(neighbour_1)\n",
    "                queue_1.append(neighbour_1)\n",
    "\n",
    "        for neighbour_2 in graph[n]:\n",
    "            if neighbour_2 not in visited:\n",
    "                visited.append(neighbour_2)\n",
    "                queue_2.append(neighbour_2)\n",
    "    \n",
    "    return False\n",
    "    \n",
    "# Driver Code\n",
    "\n",
    "visited = []\n",
    "queue_1 = []\n",
    "queue_2 = []\n",
    "print(\"Traversed node using Bidirectional Search :\")\n",
    "print(\"Goal found\") if bids(visited, queue_1, queue_2, graph_u, '5', '7') else print(\"Goal not found\")"
   ]
  },
  {
   "cell_type": "code",
   "execution_count": 28,
   "metadata": {},
   "outputs": [],
   "source": [
    "h = {\n",
    "    '5':'7',\n",
    "    '3':'4',\n",
    "    '7':'6',\n",
    "    '2':'5',\n",
    "    '4':'9',\n",
    "    '8':'2',\n",
    "    '6':'1'\n",
    "}"
   ]
  },
  {
   "cell_type": "code",
   "execution_count": 29,
   "metadata": {},
   "outputs": [
    {
     "name": "stdout",
     "output_type": "stream",
     "text": [
      "Traversed node using UCS :\n",
      "5 3 2 7 8 6 Goal found\n"
     ]
    }
   ],
   "source": [
    "#Best first search\n",
    "def best_fs(visited, queue, cost_map, graph, starting_node, goal):\n",
    "    visited.append(starting_node)\n",
    "    queue.append(starting_node)\n",
    "\n",
    "    while queue:\n",
    "        m = queue.pop(0)\n",
    "        print (m, end = \" \")\n",
    "        if m == goal :\n",
    "            return True\n",
    "\n",
    "        for neighbour in graph[m]:\n",
    "            if neighbour not in visited:\n",
    "                visited.append(neighbour)\n",
    "                queue.append(neighbour)\n",
    "                queue.sort(key=lambda e: int(h[e]))\n",
    "    return False\n",
    "\n",
    "# Driver code\n",
    "visited = []\n",
    "queue = []\n",
    "cost_map = {}\n",
    "print(\"Traversed node using UCS :\")\n",
    "print(\"Goal found\") if best_fs(visited, queue, cost_map, graph, '5', '6') else print(\"Goal not found\")"
   ]
  },
  {
   "cell_type": "code",
   "execution_count": 30,
   "metadata": {},
   "outputs": [
    {
     "name": "stdout",
     "output_type": "stream",
     "text": [
      "Traversed node using A* :\n",
      "5 3 7 8 6 Goal found\n"
     ]
    }
   ],
   "source": [
    "# A*\n",
    "\n",
    "def A_star(visited, queue, cost_map, graph, starting_node, goal):\n",
    "    visited.append(starting_node)\n",
    "    queue.append(starting_node)\n",
    "\n",
    "    while queue:\n",
    "        m = queue.pop(0)\n",
    "        print (m, end = \" \")\n",
    "        if m == goal :\n",
    "            return True\n",
    "\n",
    "        for neighbour in graph[m]:\n",
    "            if neighbour not in visited:\n",
    "                cost_map[neighbour] = str(int(cost_map[m]) + int(graph_cost[m+neighbour])) if m in cost_map.keys() else graph_cost[m+neighbour]\n",
    "                visited.append(neighbour)\n",
    "                queue.append(neighbour)\n",
    "                queue.sort(key=lambda e: int(cost_map[e]) + int(h[e]) if e in cost_map.keys() else 0)\n",
    "    return False\n",
    "\n",
    "# Driver code\n",
    "visited = []\n",
    "queue = []\n",
    "cost_map = {}\n",
    "print(\"Traversed node using A* :\")\n",
    "print(\"Goal found\") if A_star(visited, queue, cost_map, graph, '5', '6') else print(\"Goal not found\")"
   ]
  },
  {
   "cell_type": "code",
   "execution_count": 32,
   "metadata": {},
   "outputs": [
    {
     "name": "stdout",
     "output_type": "stream",
     "text": [
      "Traversed node using Beam Search :\n",
      "5 3 2 7 8 6 Goal found\n"
     ]
    }
   ],
   "source": [
    "# Beam search\n",
    "\n",
    "def beam(queue, graph, beam_value, starting_node, goal):\n",
    "    queue.append(starting_node)\n",
    "\n",
    "    while queue:\n",
    "        m = queue.pop(0)\n",
    "        print (m, end = \" \")\n",
    "        if m == goal :\n",
    "            return True\n",
    "\n",
    "        for neighbour in graph[m]:\n",
    "            queue.append(neighbour)\n",
    "            queue.sort(key=lambda e: int(h[e]))\n",
    "            while len(queue) > beam_value :\n",
    "                queue.pop()\n",
    "    return False\n",
    "\n",
    "# Driver code\n",
    "visited = []\n",
    "queue = []\n",
    "print(\"Traversed node using Beam Search :\")\n",
    "print(\"Goal found\") if beam(queue, graph, 2, '5', '6') else print(\"Goal not found\")"
   ]
  },
  {
   "cell_type": "code",
   "execution_count": 31,
   "metadata": {},
   "outputs": [
    {
     "name": "stdout",
     "output_type": "stream",
     "text": [
      "Traversed node using Hill Climbing :\n",
      "5 3 Goal not found\n"
     ]
    }
   ],
   "source": [
    "# Hill climbing\n",
    "\n",
    "def hill_climb(queue, cost_map, graph, starting_node, goal):\n",
    "    queue.append(starting_node)\n",
    "    current_node = starting_node\n",
    "\n",
    "    while queue:\n",
    "        m = queue.pop(0)\n",
    "        queue.clear()\n",
    "        # print(h[current_node])\n",
    "        # print(h[m])\n",
    "        if int(h[current_node]) >= int(h[m]) :\n",
    "            current_node = m\n",
    "        else :\n",
    "            return False\n",
    "        print (m, end = \" \")\n",
    "        if m == goal :\n",
    "            return True\n",
    "\n",
    "        for neighbour in graph[m]:\n",
    "            queue.append(neighbour)\n",
    "            queue.sort(key=lambda e: int(h[e]))\n",
    "    return False\n",
    "\n",
    "# Driver code\n",
    "visited = []\n",
    "queue = []\n",
    "cost_map = {}\n",
    "print(\"Traversed node using Hill Climbing :\")\n",
    "print(\"Goal found\") if hill_climb(queue, cost_map, graph, '5', '6') else print(\"Goal not found\")"
   ]
  },
  {
   "cell_type": "code",
   "execution_count": null,
   "metadata": {},
   "outputs": [],
   "source": []
  }
 ],
 "metadata": {
  "kernelspec": {
   "display_name": "Python 3.9.4 64-bit",
   "language": "python",
   "name": "python3"
  },
  "language_info": {
   "codemirror_mode": {
    "name": "ipython",
    "version": 3
   },
   "file_extension": ".py",
   "mimetype": "text/x-python",
   "name": "python",
   "nbconvert_exporter": "python",
   "pygments_lexer": "ipython3",
   "version": "3.9.4"
  },
  "orig_nbformat": 4,
  "vscode": {
   "interpreter": {
    "hash": "29a2b31ce1ae273c8565c327a1305d42d22bdfa31c16a942527177a59e7a05df"
   }
  }
 },
 "nbformat": 4,
 "nbformat_minor": 2
}
