{
 "cells": [
  {
   "cell_type": "code",
   "execution_count": 5,
   "metadata": {},
   "outputs": [
    {
     "name": "stdout",
     "output_type": "stream",
     "text": [
      "{0, 1, 2, 3, 4}\n"
     ]
    }
   ],
   "source": [
    "#BFS\n",
    "import collections\n",
    "def bfs(graph,root):\n",
    "    visited = set()\n",
    "    queue = collections.deque([root])\n",
    "    while queue:\n",
    "        vertex = queue.popleft()\n",
    "        visited.add(vertex)\n",
    "        for i in graph[vertex]:\n",
    "            if i not in visited:\n",
    "                queue.append(i)\n",
    "    print(visited)\n",
    "\n",
    "\n",
    "if __name__ == \"__main__\":\n",
    "    graph = {\n",
    "                0:[1,2,3],\n",
    "                1:[0,2],\n",
    "                2:[0,1,4],\n",
    "                3:[0],\n",
    "                4:[2]\n",
    "            }\n",
    "    bfs(graph,0)\n",
    "    "
   ]
  },
  {
   "cell_type": "code",
   "execution_count": 6,
   "metadata": {},
   "outputs": [
    {
     "name": "stdout",
     "output_type": "stream",
     "text": [
      "A\n",
      "B\n",
      "E\n",
      "C\n",
      "D\n"
     ]
    }
   ],
   "source": [
    "#DFS\n",
    "graph = {\n",
    "            'A':['B','C','D'],\n",
    "            'B':['E'],\n",
    "            'C':['D','E'],\n",
    "            'D':[],\n",
    "            'E':[]\n",
    "        }\n",
    "visited = set()\n",
    "def dfs(visited,graph,root):\n",
    "    if root not in visited:\n",
    "        print(root)\n",
    "        visited.add(root)\n",
    "        for neighbour in graph[root]:\n",
    "            dfs(visited,graph,neighbour)\n",
    "    \n",
    "\n",
    "dfs(visited,graph,'A')\n"
   ]
  },
  {
   "cell_type": "code",
   "execution_count": null,
   "metadata": {},
   "outputs": [],
   "source": []
  }
 ],
 "metadata": {
  "interpreter": {
   "hash": "29a2b31ce1ae273c8565c327a1305d42d22bdfa31c16a942527177a59e7a05df"
  },
  "kernelspec": {
   "display_name": "Python 3.9.4 64-bit",
   "language": "python",
   "name": "python3"
  },
  "language_info": {
   "codemirror_mode": {
    "name": "ipython",
    "version": 3
   },
   "file_extension": ".py",
   "mimetype": "text/x-python",
   "name": "python",
   "nbconvert_exporter": "python",
   "pygments_lexer": "ipython3",
   "version": "3.9.4"
  },
  "orig_nbformat": 4
 },
 "nbformat": 4,
 "nbformat_minor": 2
}
